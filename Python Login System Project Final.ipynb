{
 "cells": [
  {
   "cell_type": "code",
   "execution_count": 1,
   "id": "5af46aa4",
   "metadata": {},
   "outputs": [],
   "source": [
    "def register():\n",
    "    Username=input(\"Create username:\")\n",
    "    Password=input(\"Create password:\")\n",
    "    Password1=input(\"Confirm password:\")\n",
    "    \n",
    "    db=open('database.txt','r')\n",
    "    u=[]\n",
    "    p=[]\n",
    "    for i in db:\n",
    "        a,b=i.split(\",\")\n",
    "        b=b.strip()\n",
    "        u.append(a)\n",
    "        p.append(b)\n",
    "    data=dict(zip(u,p))\n",
    "    db.close()\n",
    "    \n",
    "    if Password!=Password1:\n",
    "        print(\"Passwords doesnot match, restart\")\n",
    "        register()\n",
    "    else:\n",
    "        if len(Password)<=6:\n",
    "            print('Password too short, restart')\n",
    "            register()\n",
    "        elif Username in u:\n",
    "            print('Username already exists')\n",
    "            register()\n",
    "        else:\n",
    "            db=open('database.txt','a')\n",
    "            db.write(Username+\",\"+Password+\"\\n\")\n",
    "            print('User created successfully!!')"
   ]
  },
  {
   "cell_type": "code",
   "execution_count": 2,
   "id": "7356fba2",
   "metadata": {},
   "outputs": [],
   "source": [
    "def access():\n",
    "    Username=input(\"Enter your username:\")\n",
    "    Password=input(\"Enter your password:\")\n",
    "    \n",
    "    if not len(Username or Password)<1:\n",
    "        db=open('database.txt','r')\n",
    "        u=[]\n",
    "        p=[]\n",
    "        for i in db:\n",
    "            a,b=i.split(\",\")\n",
    "            b=b.strip()\n",
    "            u.append(a)\n",
    "            p.append(b)\n",
    "        data=dict(zip(u,p))\n",
    "        db.close()\n",
    "        \n",
    "        try:\n",
    "            if data[Username]:\n",
    "                try:\n",
    "                    if Password == data[Username]:\n",
    "                        print(\"Login success\")\n",
    "                        print(\"Hi,\", Username)\n",
    "                    else:\n",
    "                        print(\"Password or Username incorrect\")\n",
    "                except:\n",
    "                    print(\"Incorrect password or username\")\n",
    "            else:\n",
    "                print(\"Username doesnot exists\")\n",
    "        except:\n",
    "            print(\"Username or Password incorrect\")\n",
    "    else:\n",
    "         print('Please enter the value')\n"
   ]
  },
  {
   "cell_type": "code",
   "execution_count": 3,
   "id": "e864e608",
   "metadata": {},
   "outputs": [
    {
     "name": "stdout",
     "output_type": "stream",
     "text": [
      "Login | Signup Signup\n",
      "Create username:niku123\n",
      "Create password:niku111\n",
      "Confirm password:niku111\n",
      "Username already exists\n",
      "Create username:gurjitkaur\n",
      "Create password:gurjitkaur3030\n",
      "Confirm password:gurjitkaur3030\n",
      "User created successfully!!\n"
     ]
    }
   ],
   "source": [
    "def home(option=None):\n",
    "    option=input(\"Login | Signup \")\n",
    "    if option == 'Login':\n",
    "        access()\n",
    "    elif option=='Signup':\n",
    "        register()\n",
    "    else:\n",
    "        home()\n",
    "home()"
   ]
  },
  {
   "cell_type": "code",
   "execution_count": null,
   "id": "02388dbe",
   "metadata": {},
   "outputs": [],
   "source": []
  }
 ],
 "metadata": {
  "kernelspec": {
   "display_name": "Python 3 (ipykernel)",
   "language": "python",
   "name": "python3"
  },
  "language_info": {
   "codemirror_mode": {
    "name": "ipython",
    "version": 3
   },
   "file_extension": ".py",
   "mimetype": "text/x-python",
   "name": "python",
   "nbconvert_exporter": "python",
   "pygments_lexer": "ipython3",
   "version": "3.9.7"
  }
 },
 "nbformat": 4,
 "nbformat_minor": 5
}
